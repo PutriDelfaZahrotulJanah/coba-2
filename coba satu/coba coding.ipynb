{
 "cells": [
  {
   "cell_type": "code",
   "execution_count": 1,
   "id": "2c6052ef-f226-4226-9ae9-fbfd51e63e46",
   "metadata": {},
   "outputs": [
    {
     "name": "stdout",
     "output_type": "stream",
     "text": [
      "+------+----------+------+-------+-------+\n",
      "| Nama | Golongan | NPWP | Honor | Pajak |\n",
      "+------+----------+------+-------+-------+\n",
      "+------+----------+------+-------+-------+\n"
     ]
    }
   ],
   "source": [
    "from prettytable import PrettyTable\n",
    "honorpenelitian = PrettyTable([\"Nama\",\"Golongan\",\"NPWP\",\"Honor\",\"Pajak\"])\n",
    "print(honorpenelitian)"
   ]
  },
  {
   "cell_type": "code",
   "execution_count": null,
   "id": "dc706916-0afb-47cf-b0b5-5940f72b9c7e",
   "metadata": {},
   "outputs": [],
   "source": []
  }
 ],
 "metadata": {
  "kernelspec": {
   "display_name": "Python 3 (ipykernel)",
   "language": "python",
   "name": "python3"
  },
  "language_info": {
   "codemirror_mode": {
    "name": "ipython",
    "version": 3
   },
   "file_extension": ".py",
   "mimetype": "text/x-python",
   "name": "python",
   "nbconvert_exporter": "python",
   "pygments_lexer": "ipython3",
   "version": "3.10.2"
  }
 },
 "nbformat": 4,
 "nbformat_minor": 5
}
